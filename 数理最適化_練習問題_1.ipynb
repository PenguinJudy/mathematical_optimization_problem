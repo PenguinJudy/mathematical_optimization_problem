{
  "nbformat": 4,
  "nbformat_minor": 0,
  "metadata": {
    "colab": {
      "name": "数理最適化_練習問題_1.ipynb",
      "provenance": [],
      "include_colab_link": true
    },
    "kernelspec": {
      "name": "python3",
      "display_name": "Python 3"
    }
  },
  "cells": [
    {
      "cell_type": "markdown",
      "metadata": {
        "id": "view-in-github",
        "colab_type": "text"
      },
      "source": [
        "<a href=\"https://colab.research.google.com/github/PenguinJudy/mathematical_optimization_problem/blob/master/%E6%95%B0%E7%90%86%E6%9C%80%E9%81%A9%E5%8C%96_%E7%B7%B4%E7%BF%92%E5%95%8F%E9%A1%8C_1.ipynb\" target=\"_parent\"><img src=\"https://colab.research.google.com/assets/colab-badge.svg\" alt=\"Open In Colab\"/></a>"
      ]
    },
    {
      "cell_type": "code",
      "metadata": {
        "id": "zlOndq9jd8xY",
        "colab_type": "code",
        "outputId": "607c5efc-a3b1-4f9c-e856-47eeaaa93788",
        "colab": {
          "base_uri": "https://localhost:8080/",
          "height": 85
        }
      },
      "source": [
        "#問題 1 (丼チェーン店長の悩み（改）)\n",
        "#あなたは丼チェーンの店長だ．\n",
        "#店の主力製品は，トンコケ丼，コケトン丼，ミックス丼，ビーフ丼の 4 種類で，\n",
        "#トンコケ丼を 1 杯作るには，200 グラムの豚肉と 100 グラムの鶏肉，コケトン丼を 1 杯作るには，100 グラムの豚肉と 200 グラムの鶏肉，ミックス丼を 1 杯作るには，豚肉，鶏肉，牛肉を 100 グラムずつ，最後のビーフ丼は，牛肉だけを 300 グラム使う．ただし，ビーフ丼は限定商品のため 1 日 10 杯しか作れない．\n",
        "#原料として使用できる豚，鶏，牛の肉は，最大 1 日あたり 9 キログラム，9 キログラム，6 キログラムで，販売価格は，トンコケ丼 1 杯 1500 円，コケトン丼 1 杯 1800 円，ミックス丼 1 杯 2000 円，そしてビーフ丼は5000 円だ．\n",
        "#さて，お店の利益を最大にするためには，あなたは丼を何杯ずつ作るように指示を出せばよいのだろうか？\n",
        "\n",
        "from pulp.pulp import LpProblem\n",
        "from pulp.pulp import LpVariable\n",
        "from pulp.constants import LpMaximize\n",
        "\n",
        "#総和最大化なのでLpMaximizeを指定する\n",
        "problem = LpProblem('Restaurant', LpMaximize)\n",
        "\n",
        "#変数定義\n",
        "tonkoke = LpVariable('Tonkoke')\n",
        "koketon = LpVariable('Koketon')\n",
        "mix = LpVariable('Mix')\n",
        "beef = LpVariable('Beef')\n",
        "\n",
        "#目的関数\n",
        "problem += 1500 * tonkoke + 1800 * koketon + 2000 * mix + 5000 * beef\n",
        "\n",
        "#制約条件\n",
        "#ビーフ丼は1日10杯まで\n",
        "beef <= 10\n",
        "#豚9kg\n",
        "problem += 200 * tonkoke + 100 * koketon + 100 * mix <= 9000\n",
        "#鶏9kg\n",
        "problem += 100 * tonkoke + 200 * koketon + 100 * mix <= 9000\n",
        "#牛6kg\n",
        "problem += 100 * mix + 300 * beef <= 6000\n",
        "\n",
        "problem.solve()\n",
        "\n",
        "print('トンコケ丼{tonkoke}'.format(tonkoke = tonkoke.value()))\n",
        "print('コケトン丼{koketon}'.format(koketon = koketon.value()))\n",
        "print('ミックス丼{mix}'.format(mix = mix.value()))\n",
        "print('ビーフ丼{beef}'.format(beef = beef.value()))"
      ],
      "execution_count": 15,
      "outputs": [
        {
          "output_type": "stream",
          "text": [
            "トンコケ丼30.0\n",
            "コケトン丼30.0\n",
            "ミックス丼0.0\n",
            "ビーフ丼20.0\n"
          ],
          "name": "stdout"
        }
      ]
    }
  ]
}