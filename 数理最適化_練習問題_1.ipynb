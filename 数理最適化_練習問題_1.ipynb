{
  "nbformat": 4,
  "nbformat_minor": 0,
  "metadata": {
    "colab": {
      "name": "数理最適化_練習問題_1.ipynb",
      "provenance": [],
      "include_colab_link": true
    },
    "kernelspec": {
      "name": "python3",
      "display_name": "Python 3"
    }
  },
  "cells": [
    {
      "cell_type": "markdown",
      "metadata": {
        "id": "view-in-github",
        "colab_type": "text"
      },
      "source": [
        "<a href=\"https://colab.research.google.com/github/PenguinJudy/mathematical_optimization_problem/blob/master/%E6%95%B0%E7%90%86%E6%9C%80%E9%81%A9%E5%8C%96_%E7%B7%B4%E7%BF%92%E5%95%8F%E9%A1%8C_1.ipynb\" target=\"_parent\"><img src=\"https://colab.research.google.com/assets/colab-badge.svg\" alt=\"Open In Colab\"/></a>"
      ]
    },
    {
      "cell_type": "code",
      "metadata": {
        "id": "zlOndq9jd8xY",
        "colab_type": "code",
        "outputId": "e80be734-2dbb-4fca-fcf0-848ac95f0141",
        "colab": {
          "base_uri": "https://localhost:8080/",
          "height": 85
        }
      },
      "source": [
        "from pulp.pulp import LpProblem\n",
        "from pulp.pulp import LpVariable\n",
        "from pulp.constants import LpMaximize\n",
        "\n",
        "#総和最大化なのでLpMaximizeを指定する\n",
        "problem = LpProblem('Restaurant', LpMaximize)\n",
        "\n",
        "#変数定義\n",
        "tonkoke = LpVariable('Tonkoke')\n",
        "koketon = LpVariable('Koketon')\n",
        "mix = LpVariable('Mix')\n",
        "beef = LpVariable('Beef')\n",
        "\n",
        "#目的関数\n",
        "problem += 1500 * tonkoke + 1800 * koketon + 2000 * mix + 5000 * beef\n",
        "\n",
        "#制約条件\n",
        "#ビーフ丼は1日10杯まで\n",
        "beef <= 10\n",
        "#豚9kg\n",
        "problem += 200 * tonkoke + 100 * koketon + 100 * mix <= 9000\n",
        "#鶏9kg\n",
        "problem += 100 * tonkoke + 200 * koketon + 100 * mix <= 9000\n",
        "#牛6kg\n",
        "problem += 100 * mix + 300 * beef <= 6000\n",
        "\n",
        "problem.solve()\n",
        "\n",
        "print('トンコケ丼{tonkoke}'.format(tonkoke = tonkoke.value()))\n",
        "print('コケトン丼{koketon}'.format(koketon = koketon.value()))\n",
        "print('ミックス丼{mix}'.format(mix = mix.value()))\n",
        "print('ビーフ丼{beef}'.format(beef = beef.value()))"
      ],
      "execution_count": 14,
      "outputs": [
        {
          "output_type": "stream",
          "text": [
            "トンコケ丼30.0\n",
            "コケトン丼30.0\n",
            "ミックス丼0.0\n",
            "ビーフ丼20.0\n"
          ],
          "name": "stdout"
        }
      ]
    }
  ]
}