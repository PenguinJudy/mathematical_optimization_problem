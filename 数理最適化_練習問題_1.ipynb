from pulp.pulp import LpProblem
from pulp.pulp import LpVariable
from pulp.constants import LpMaximize

#総和最大化なのでLpMaximizeを指定する
problem = LpProblem('Restaurant', LpMaximize)

#変数定義
tonkoke = LpVariable('Tonkoke')
koketon = LpVariable('Koketon')
mix = LpVariable('Mix')
beef = LpVariable('Beef')

#目的関数
problem += 1500 * tonkoke + 1800 * koketon + 2000 * mix + 5000 * beef

#制約条件
#ビーフ丼は1日10杯まで
beef <= 10
#豚9kg
problem += 200 * tonkoke + 100 * koketon + 100 * mix <= 9000
#鶏9kg
problem += 100 * tonkoke + 200 * koketon + 100 * mix <= 9000
#牛6kg
problem += 100 * mix + 300 * beef <= 6000

problem.solve()

print('トンコケ丼{tonkoke}'.format(tonkoke = tonkoke.value()))
print('コケトン丼{koketon}'.format(koketon = koketon.value()))
print('ミックス丼{mix}'.format(mix = mix.value()))
print('ビーフ丼{beef}'.format(beef = beef.value()))
